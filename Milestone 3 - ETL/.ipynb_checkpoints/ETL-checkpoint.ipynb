{
 "cells": [
  {
   "cell_type": "code",
   "execution_count": 1,
   "id": "featured-illness",
   "metadata": {},
   "outputs": [],
   "source": [
    "from datetime import datetime\n",
    "import requests\n",
    "import json\n",
    "import time\n",
    "\n",
    "# library for importing BLS statistics through the BLS.gov API: https://github.com/OliverSherouse/bls\n",
    "import bls\n",
    "import pandas as pd\n",
    "import numpy as np\n",
    "from google.cloud import bigquery\n",
    "from google.oauth2 import service_account\n",
    "\n",
    "# import ETL functions\n",
    "import etl_functions as etl"
   ]
  },
  {
   "cell_type": "code",
   "execution_count": 2,
   "id": "complicated-effort",
   "metadata": {},
   "outputs": [],
   "source": [
    "start = time.time()"
   ]
  },
  {
   "cell_type": "code",
   "execution_count": 3,
   "id": "electric-database",
   "metadata": {},
   "outputs": [],
   "source": [
    "# Connect to Google BigQuery\n",
    "key_path = ''\n",
    "\n",
    "credentials = service_account.Credentials.from_service_account_file(\n",
    "    key_path,\n",
    "    scopes=[\"https://www.googleapis.com/auth/cloud-platform\"])\n",
    "\n",
    "client = bigquery.Client(credentials=credentials, project=credentials.project_id)"
   ]
  },
  {
   "cell_type": "code",
   "execution_count": 4,
   "id": "fourth-heater",
   "metadata": {},
   "outputs": [],
   "source": [
    "###########\n",
    "# Extract #\n",
    "###########"
   ]
  },
  {
   "cell_type": "code",
   "execution_count": 5,
   "id": "unknown-affiliation",
   "metadata": {},
   "outputs": [
    {
     "name": "stdout",
     "output_type": "stream",
     "text": [
      "100 crime records extracted from Google BigQuery public datasets: Chicago Crime Data\n"
     ]
    }
   ],
   "source": [
    "# Extract Chicago crime data\n",
    "chicago_crime_data = etl.extract_chicago_crime_data()"
   ]
  },
  {
   "cell_type": "code",
   "execution_count": 6,
   "id": "coastal-tunnel",
   "metadata": {},
   "outputs": [
    {
     "name": "stdout",
     "output_type": "stream",
     "text": [
      "Chicago Public Schools graduation data successfully extracted.\n"
     ]
    }
   ],
   "source": [
    "# Extract graduation data\n",
    "cps_graduation_data = etl.extract_cps_graduation_data()"
   ]
  },
  {
   "cell_type": "code",
   "execution_count": 7,
   "id": "hungarian-found",
   "metadata": {},
   "outputs": [
    {
     "name": "stdout",
     "output_type": "stream",
     "text": [
      "Chicago Unemployment rate data successfully extracted.\n"
     ]
    }
   ],
   "source": [
    "# Extract unemployment data\n",
    "chicago_unemployment_rate_data = etl.extract_chicago_unemployment_rate_data()"
   ]
  },
  {
   "cell_type": "code",
   "execution_count": 8,
   "id": "numerous-champagne",
   "metadata": {},
   "outputs": [
    {
     "name": "stdout",
     "output_type": "stream",
     "text": [
      "Extracting temperature data for 2011.\n",
      "Extracting temperature data for 2012.\n",
      "Extracting temperature data for 2013.\n",
      "Extracting temperature data for 2014.\n",
      "Extracting temperature data for 2015.\n",
      "Extracting temperature data for 2016.\n",
      "Extracting temperature data for 2017.\n",
      "Extracting temperature data for 2018.\n",
      "Extracting temperature data for 2019.\n",
      "Extracting precipitation data for 2011.\n",
      "Extracting precipitation data for 2012.\n",
      "Extracting precipitation data for 2013.\n",
      "Extracting precipitation data for 2014.\n",
      "Extracting precipitation data for 2015.\n",
      "Extracting precipitation data for 2016.\n",
      "Extracting precipitation data for 2017.\n",
      "Extracting precipitation data for 2018.\n",
      "Extracting precipitation data for 2019.\n"
     ]
    }
   ],
   "source": [
    "# Extract weather data\n",
    "chicago_weather_data = etl.extract_chicago_weather_data()"
   ]
  },
  {
   "cell_type": "code",
   "execution_count": 9,
   "id": "municipal-checklist",
   "metadata": {},
   "outputs": [],
   "source": [
    "##################\n",
    "# DATA PROFILING #\n",
    "##################"
   ]
  },
  {
   "cell_type": "code",
   "execution_count": 10,
   "id": "strategic-prior",
   "metadata": {},
   "outputs": [
    {
     "name": "stdout",
     "output_type": "stream",
     "text": [
      "             column_name        col_data_type col_memory %_of_total_memory  \\\n",
      "0                 arrest                 bool   0.000095          0.232964   \n",
      "1               domestic                 bool   0.000095          0.232964   \n",
      "2            description               object   0.007874         19.233547   \n",
      "3           primary_type               object   0.006778         16.556785   \n",
      "4               fbi_code               object   0.005647         13.793826   \n",
      "5   location_description               object    0.00643         15.706465   \n",
      "6         community_area                int64   0.000763          1.863716   \n",
      "7               district                int64   0.000763          1.863716   \n",
      "8                   ward                int64   0.000763          1.863716   \n",
      "9                   beat                int64   0.000763          1.863716   \n",
      "10                 block               object   0.007152         17.470006   \n",
      "11              latitude              float64   0.000763          1.863716   \n",
      "12             longitude              float64   0.000763          1.863716   \n",
      "13          x_coordinate              float64   0.000763          1.863716   \n",
      "14          y_coordinate              float64   0.000763          1.863716   \n",
      "15                  date  datetime64[ns, UTC]   0.000763          1.863716   \n",
      "\n",
      "   non_null_values %_of_non_nulls null_values %_of_nulls unique_values_count  \\\n",
      "0              100          100.0           0        0.0                   2   \n",
      "1              100          100.0           0        0.0                   2   \n",
      "2              100          100.0           0        0.0                  54   \n",
      "3              100          100.0           0        0.0                  20   \n",
      "4              100          100.0           0        0.0                  19   \n",
      "5              100          100.0           0        0.0                  22   \n",
      "6              100          100.0           0        0.0                  22   \n",
      "7              100          100.0           0        0.0                   9   \n",
      "8              100          100.0           0        0.0                  17   \n",
      "9              100          100.0           0        0.0                  35   \n",
      "10             100          100.0           0        0.0                 100   \n",
      "11              98           98.0           2        2.0                  98   \n",
      "12              98           98.0           2        2.0                  98   \n",
      "13              98           98.0           2        2.0                  98   \n",
      "14              98           98.0           2        2.0                  98   \n",
      "15             100          100.0           0        0.0                 100   \n",
      "\n",
      "   count        mean       std         min         25%         50%  \\\n",
      "0    100         NaN       NaN         NaN         NaN         NaN   \n",
      "1    100         NaN       NaN         NaN         NaN         NaN   \n",
      "2    100         NaN       NaN         NaN         NaN         NaN   \n",
      "3    100         NaN       NaN         NaN         NaN         NaN   \n",
      "4    100         NaN       NaN         NaN         NaN         NaN   \n",
      "5    100         NaN       NaN         NaN         NaN         NaN   \n",
      "6    100       43.23     19.48        9.00       34.00       50.00   \n",
      "7    100        9.57      6.38        2.00        4.00        8.00   \n",
      "8    100       18.75     13.96        3.00        9.00       11.00   \n",
      "9    100     1017.90    659.29      212.00      432.00      813.00   \n",
      "10   100         NaN       NaN         NaN         NaN         NaN   \n",
      "11   100       41.80      0.11       41.65       41.71       41.78   \n",
      "12   100      -87.66      0.09      -87.84      -87.73      -87.63   \n",
      "13   100  1167930.92  24733.69  1119313.00  1147402.25  1175175.00   \n",
      "14   100  1869502.40  41126.57  1815949.00  1836862.75  1861485.00   \n",
      "15   100         NaN       NaN         NaN         NaN         NaN   \n",
      "\n",
      "           75%         max  \n",
      "0          NaN         NaN  \n",
      "1          NaN         NaN  \n",
      "2          NaN         NaN  \n",
      "3          NaN         NaN  \n",
      "4          NaN         NaN  \n",
      "5          NaN         NaN  \n",
      "6        55.00       74.00  \n",
      "7        16.00       25.00  \n",
      "8        23.50       50.00  \n",
      "9      1615.75     2512.00  \n",
      "10         NaN         NaN  \n",
      "11       41.84       42.01  \n",
      "12      -87.59      -87.53  \n",
      "13  1186929.00  1204544.00  \n",
      "14  1886237.00  1945185.00  \n",
      "15         NaN         NaN  \n"
     ]
    }
   ],
   "source": [
    "# Profile Chicago crime data\n",
    "chicago_crime_data_profile = etl.data_profiling_dataframe(chicago_crime_data)\n",
    "print(chicago_crime_data_profile)"
   ]
  },
  {
   "cell_type": "code",
   "execution_count": 11,
   "id": "convenient-consultancy",
   "metadata": {},
   "outputs": [
    {
     "name": "stdout",
     "output_type": "stream",
     "text": [
      "  column_name col_data_type col_memory %_of_total_memory non_null_values  \\\n",
      "0   grad_rate       float64   0.000069             100.0               9   \n",
      "\n",
      "  %_of_non_nulls null_values %_of_nulls unique_values_count count   mean  \\\n",
      "0          100.0           0        0.0                   9     9  67.37   \n",
      "\n",
      "    std   min   25%   50%   75%   max  \n",
      "0  8.75  54.2  59.1  68.2  74.7  78.0  \n"
     ]
    }
   ],
   "source": [
    "# Profile graduation data\n",
    "cps_graduation_data_profile = etl.data_profiling_dataframe(cps_graduation_data)\n",
    "print(cps_graduation_data_profile)"
   ]
  },
  {
   "cell_type": "code",
   "execution_count": 12,
   "id": "paperback-yugoslavia",
   "metadata": {},
   "outputs": [
    {
     "name": "stdout",
     "output_type": "stream",
     "text": [
      "         column_name col_data_type col_memory %_of_total_memory  \\\n",
      "0  unemployment_rate       float64   0.000824             100.0   \n",
      "\n",
      "  non_null_values %_of_non_nulls null_values %_of_nulls unique_values_count  \\\n",
      "0             108          100.0           0        0.0                  58   \n",
      "\n",
      "  count  mean   std  min   25%   50%  75%   max  \n",
      "0   108  7.35  2.48  3.3  5.18  6.85  9.8  11.7  \n"
     ]
    }
   ],
   "source": [
    "# Profile unemployment data\n",
    "chicago_unemployment_rate_data_profile = etl.data_profiling_dataframe(chicago_unemployment_rate_data)\n",
    "print(chicago_unemployment_rate_data_profile)"
   ]
  },
  {
   "cell_type": "code",
   "execution_count": 13,
   "id": "overhead-french",
   "metadata": {},
   "outputs": [
    {
     "name": "stdout",
     "output_type": "stream",
     "text": [
      "  column_name col_data_type col_memory %_of_total_memory non_null_values  \\\n",
      "0        temp       float64   0.024162              50.0            3167   \n",
      "1        prcp       float64   0.024162              50.0            3167   \n",
      "\n",
      "  %_of_non_nulls null_values %_of_nulls unique_values_count count   mean  \\\n",
      "0          100.0           0        0.0                  99  3167  44.83   \n",
      "1          100.0           0        0.0                 160  3167   1.19   \n",
      "\n",
      "     std    min    25%    50%    75%    max  \n",
      "0  19.13 -23.08  30.92  44.96  60.98  84.92  \n",
      "1   3.20   0.00   0.00   0.00   0.59  55.20  \n"
     ]
    }
   ],
   "source": [
    "# Profile weather data\n",
    "chicago_weather_data_profile = etl.data_profiling_dataframe(chicago_weather_data)\n",
    "print(chicago_weather_data_profile)"
   ]
  },
  {
   "cell_type": "code",
   "execution_count": 14,
   "id": "forty-assessment",
   "metadata": {},
   "outputs": [],
   "source": [
    "#############\n",
    "# TRANSFORM #\n",
    "#############"
   ]
  },
  {
   "cell_type": "code",
   "execution_count": 15,
   "id": "superb-leisure",
   "metadata": {},
   "outputs": [
    {
     "name": "stdout",
     "output_type": "stream",
     "text": [
      "Cleaning Chicago Crime data for the CRIME_INCIDENT fact.\n",
      "8 null values dropped.\n",
      "Chicago crime data has no duplicate rows.\n",
      "Chicago crime data cleaning successful.\n"
     ]
    }
   ],
   "source": [
    "# Clean Chicago crime data\n",
    "chicago_crime_data = etl.clean_chicago_crime_data(chicago_crime_data)"
   ]
  },
  {
   "cell_type": "code",
   "execution_count": 16,
   "id": "critical-boring",
   "metadata": {},
   "outputs": [
    {
     "name": "stdout",
     "output_type": "stream",
     "text": [
      "Cleaning Chicago Public Schools graduation data for the GRADUATION_RATE fact.\n",
      "Chicago Public Schools graduation data has no null values.\n",
      "Chicago Public Schools graduation data has no duplicate rows.\n",
      "Chicago Public Schools graduation data cleaning successful.\n"
     ]
    }
   ],
   "source": [
    "# Clean graduation data\n",
    "cps_graduation_data = etl.clean_cps_graduation_data(cps_graduation_data)"
   ]
  },
  {
   "cell_type": "code",
   "execution_count": 17,
   "id": "cooked-antique",
   "metadata": {},
   "outputs": [
    {
     "name": "stdout",
     "output_type": "stream",
     "text": [
      "Cleaning unemployment data for the CHICAGO_UNEMPLOYMENT fact.\n",
      "Chicago unemployment data has no null values.\n",
      "Chicago unemployement data has no duplicate rows.\n",
      "Chicago unemployement data cleaning successful.\n"
     ]
    }
   ],
   "source": [
    "# Clean unemployment data\n",
    "chicago_unemployment_rate_data = etl.clean_chicago_unemployment_rate_data(chicago_unemployment_rate_data)"
   ]
  },
  {
   "cell_type": "code",
   "execution_count": 18,
   "id": "white-village",
   "metadata": {},
   "outputs": [
    {
     "name": "stdout",
     "output_type": "stream",
     "text": [
      "Cleaning weather data for the WEATHER fact.\n",
      "Chicago weather data has no null values.\n",
      "Chicago weather data has no duplicate rows.\n",
      "Chicago weather data cleaning successful.\n"
     ]
    }
   ],
   "source": [
    "# Clean weather data\n",
    "chicago_weather_data = etl.clean_chicago_weather_data(chicago_weather_data)"
   ]
  },
  {
   "cell_type": "code",
   "execution_count": 19,
   "id": "affecting-kitty",
   "metadata": {},
   "outputs": [
    {
     "name": "stdout",
     "output_type": "stream",
     "text": [
      "Date dimension created.\n",
      "    date_id   full_date  year  year_week  year_day  fiscal_year fiscal_qtr  \\\n",
      "0  20050101  2005-01-01  2005          0         1         2005          1   \n",
      "1  20050102  2005-01-02  2005          1         2         2005          1   \n",
      "2  20050103  2005-01-03  2005          1         3         2005          1   \n",
      "3  20050104  2005-01-04  2005          1         4         2005          1   \n",
      "4  20050105  2005-01-05  2005          1         5         2005          1   \n",
      "\n",
      "   month month_name week_day   day_name  day_is_weekday  \n",
      "0      1    January        6   Saturday               0  \n",
      "1      1    January        0     Sunday               0  \n",
      "2      1    January        1     Monday               1  \n",
      "3      1    January        2    Tuesday               1  \n",
      "4      1    January        3  Wednesday               1  \n"
     ]
    }
   ],
   "source": [
    "# Create date dimension\n",
    "date_dim = etl.create_date_dimension()\n",
    "print(date_dim.head())"
   ]
  },
  {
   "cell_type": "code",
   "execution_count": 20,
   "id": "emerging-centre",
   "metadata": {},
   "outputs": [
    {
     "name": "stdout",
     "output_type": "stream",
     "text": [
      "Crime code dimension created.\n",
      "   code_id fbi_code            primary_type\n",
      "0     1000       14         CRIMINAL DAMAGE\n",
      "1     1001       18               NARCOTICS\n",
      "2     1002      04A                 ASSAULT\n",
      "3     1003       24  PUBLIC PEACE VIOLATION\n",
      "4     1004       11      DECEPTIVE PRACTICE\n"
     ]
    }
   ],
   "source": [
    "# Create crime_code dimension\n",
    "crime_code_dim = etl.create_crime_code_dimension(chicago_crime_data)\n",
    "print(crime_code_dim.head())"
   ]
  },
  {
   "cell_type": "code",
   "execution_count": 21,
   "id": "working-python",
   "metadata": {},
   "outputs": [
    {
     "name": "stdout",
     "output_type": "stream",
     "text": [
      "Location dimension created.\n",
      "   location_id location_description  community_area  district  ward  beat  \\\n",
      "0         1000            RESIDENCE              62         8    13   813   \n",
      "1         1001               STREET              62         8    13   813   \n",
      "2         1002               STREET              34         9    11   915   \n",
      "3         1003               STREET              52         4    10   432   \n",
      "4         1004            RESIDENCE               9        16    41  1611   \n",
      "\n",
      "                   block   latitude  longitude  x_coordinate  y_coordinate  \n",
      "0    057XX S KILDARE AVE  41.789047 -87.730391     1148678.0     1866296.0  \n",
      "1        045XX W 59TH ST  41.785803 -87.735969     1147165.0     1865103.0  \n",
      "2  031XX S PRINCETON AVE  41.837745 -87.634093     1174795.0     1884240.0  \n",
      "3       095XX S AVENUE M  41.722525 -87.537711     1201448.0     1842483.0  \n",
      "4       076XX W IBSEN ST  42.005965 -87.818038     1124301.0     1945185.0  \n"
     ]
    }
   ],
   "source": [
    "# Create location dimension\n",
    "location_dim = etl.create_location_dimension(chicago_crime_data)\n",
    "print(location_dim.head())"
   ]
  },
  {
   "cell_type": "code",
   "execution_count": 22,
   "id": "marine-fantasy",
   "metadata": {},
   "outputs": [
    {
     "name": "stdout",
     "output_type": "stream",
     "text": [
      "    date_id  location_id  code_id  arrest  domestic  \\\n",
      "0  20150923         1000     1000   False     False   \n",
      "1  20160728         1018     1000   False     False   \n",
      "2  20170122         1023     1000   False     False   \n",
      "3  20110822         1092     1000   False     False   \n",
      "4  20151027         1001     1001    True     False   \n",
      "\n",
      "                    description  \n",
      "0           CRIMINAL DEFACEMENT  \n",
      "1           CRIMINAL DEFACEMENT  \n",
      "2           CRIMINAL DEFACEMENT  \n",
      "3           CRIMINAL DEFACEMENT  \n",
      "4  POSSESSION OF DRUG EQUIPMENT  \n"
     ]
    }
   ],
   "source": [
    "# Create CRIME_INCIDENT fact\n",
    "crime_incident_fact = etl.create_crime_incident_fact(chicago_crime_data, location_dim, crime_code_dim)\n",
    "print(crime_incident_fact.head())"
   ]
  },
  {
   "cell_type": "code",
   "execution_count": 23,
   "id": "refined-thing",
   "metadata": {},
   "outputs": [
    {
     "name": "stdout",
     "output_type": "stream",
     "text": [
      "    date_id  unemployment_rate\n",
      "0  20110101               11.0\n",
      "1  20110102               11.0\n",
      "2  20110103               11.0\n",
      "3  20110104               11.0\n",
      "4  20110105               11.0\n"
     ]
    }
   ],
   "source": [
    "# Create CHICAGO_UNEMPLOYMENT fact\n",
    "chicago_unemployment_fact = etl.create_chicago_unemployment_fact(chicago_unemployment_rate_data, date_dim)\n",
    "print(chicago_unemployment_fact.head())"
   ]
  },
  {
   "cell_type": "code",
   "execution_count": 24,
   "id": "dirty-friendship",
   "metadata": {},
   "outputs": [
    {
     "name": "stdout",
     "output_type": "stream",
     "text": [
      "    date_id  grad_rate\n",
      "0  20110101       54.2\n",
      "1  20110102       54.2\n",
      "2  20110103       54.2\n",
      "3  20110104       54.2\n",
      "4  20110105       54.2\n"
     ]
    }
   ],
   "source": [
    "# Create GRADUATION_RATE fact\n",
    "graduation_rate_fact = etl.create_graduation_rate_fact(cps_graduation_data, date_dim)\n",
    "print(graduation_rate_fact.head())"
   ]
  },
  {
   "cell_type": "code",
   "execution_count": 25,
   "id": "young-feeling",
   "metadata": {},
   "outputs": [
    {
     "name": "stdout",
     "output_type": "stream",
     "text": [
      "    date_id   temp     prcp\n",
      "0  20110101  26.06  4.80315\n",
      "1  20110102  12.92  0.00000\n",
      "2  20110103  21.92  0.00000\n",
      "3  20110104  23.00  0.00000\n",
      "4  20110105   8.06  0.00000\n"
     ]
    }
   ],
   "source": [
    "# Create WEATHER fact table\n",
    "weather_fact = etl.create_weather_fact(chicago_weather_data)\n",
    "print(weather_fact.head())"
   ]
  },
  {
   "cell_type": "code",
   "execution_count": 26,
   "id": "widespread-visit",
   "metadata": {},
   "outputs": [
    {
     "name": "stdout",
     "output_type": "stream",
     "text": [
      "Starting job <google.cloud.bigquery.job.load.LoadJob object at 0x7f83e64f79a0>\n",
      "Starting job <google.cloud.bigquery.job.load.LoadJob object at 0x7f83e645d2b0>\n",
      "Starting job <google.cloud.bigquery.job.load.LoadJob object at 0x7f83e645d520>\n",
      "Starting job <google.cloud.bigquery.job.load.LoadJob object at 0x7f83e67a8760>\n",
      "Starting job <google.cloud.bigquery.job.load.LoadJob object at 0x7f83e67a8910>\n",
      "Starting job <google.cloud.bigquery.job.load.LoadJob object at 0x7f83e67a8d00>\n",
      "Starting job <google.cloud.bigquery.job.load.LoadJob object at 0x7f83e67a8d60>\n"
     ]
    }
   ],
   "source": [
    "########\n",
    "# LOAD #\n",
    "########\n",
    "\n",
    "# Load location dimension\n",
    "etl.load_df_to_bigquery(df = location_dim, table_name = 'location_dim')\n",
    "# Load crime_code dimension\n",
    "etl.load_df_to_bigquery(df = crime_code_dim, table_name = 'crime_code_dim')\n",
    "# Load date dimension\n",
    "etl.load_df_to_bigquery(df = date_dim, table_name = 'date_dim')\n",
    "\n",
    "# Load crime_incident fact\n",
    "etl.load_df_to_bigquery(df = crime_incident_fact, table_name = 'crime_incident_fact')\n",
    "# Load chicago_unemployment fact\n",
    "etl.load_df_to_bigquery(df = chicago_unemployment_fact, table_name = 'chicago_unemployment_fact')\n",
    "# Load graduation_rate fact\n",
    "etl.load_df_to_bigquery(df = graduation_rate_fact, table_name = 'graduation_rate_fact')\n",
    "# Load weather fact\n",
    "etl.load_df_to_bigquery(df = weather_fact, table_name = 'weather_fact')"
   ]
  },
  {
   "cell_type": "code",
   "execution_count": 27,
   "id": "banned-debut",
   "metadata": {},
   "outputs": [
    {
     "name": "stdout",
     "output_type": "stream",
     "text": [
      "Total time for ETL: 41.93107891082764\n"
     ]
    }
   ],
   "source": [
    "end = time.time()\n",
    "print(\"Total time for ETL in seconds:\", end - start)"
   ]
  }
 ],
 "metadata": {
  "kernelspec": {
   "display_name": "Python 3",
   "language": "python",
   "name": "python3"
  },
  "language_info": {
   "codemirror_mode": {
    "name": "ipython",
    "version": 3
   },
   "file_extension": ".py",
   "mimetype": "text/x-python",
   "name": "python",
   "nbconvert_exporter": "python",
   "pygments_lexer": "ipython3",
   "version": "3.8.5"
  }
 },
 "nbformat": 4,
 "nbformat_minor": 5
}
